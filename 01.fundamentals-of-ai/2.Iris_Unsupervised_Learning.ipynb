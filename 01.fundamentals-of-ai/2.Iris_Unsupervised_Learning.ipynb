{
 "cells": [
  {
   "cell_type": "markdown",
   "metadata": {},
   "source": [
    "# Unsupervised Learning Example with K-Means\n",
    "\n",
    "## What is **Unsupervised Learning**?\n",
    "Unlike supervised learning (which uses labels), here **we have no predefined answers**. The goal is to discover hidden patterns or groups in the data.\n",
    "\n",
    "## Example with the Iris Dataset\n",
    "We'll use the same Iris dataset but **ignore the flower labels**. The K-Means algorithm will group flowers based on petal and sepal features.\n",
    "\n",
    "### Code Steps:\n",
    "1. Load the data (without labels).\n",
    "2. Apply K-Means to cluster data into 3 groups (since we know there are 3 species).\n",
    "3. Visualize the clusters.\n",
    "4. Compare with original labels (for validation only).\n"
   ]
  },
  {
   "cell_type": "code",
   "execution_count": null,
   "metadata": {},
   "outputs": [],
   "source": [
    "# Import libraries\n",
    "import numpy as np\n",
    "from sklearn.datasets import load_iris\n",
    "from sklearn.cluster import KMeans\n",
    "import matplotlib.pyplot as plt\n",
    "\n",
    "# Load data (without labels)\n",
    "data = load_iris()\n",
    "X = data.data  # Features only\n",
    "\n",
    "# Train K-Means model\n",
    "kmeans = KMeans(n_clusters=3, random_state=42)\n",
    "kmeans.fit(X)\n",
    "\n",
    "# Visualize clusters (using the first two features)\n",
    "plt.scatter(X[:, 0], X[:, 1], c=kmeans.labels_, cmap='viridis')\n",
    "plt.xlabel('Sepal Length')\n",
    "plt.ylabel('Sepal Width')\n",
    "plt.title('K-Means Clustering')\n",
    "plt.show()\n",
    "\n",
    "# Optional: Compare with true labels\n",
    "print(\"True Labels vs. Clusters:\")\n",
    "print(np.column_stack((data.target, kmeans.labels_))[:10]  # First 10 samples\n"
   ]
  }
 ],
 "metadata": {}
}