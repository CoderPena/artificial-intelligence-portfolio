{
 "cells": [
  {
   "cell_type": "markdown",
   "metadata": {},
   "source": [
    "# Exemplo de Aprendizado Não Supervisionado com K-Means\n",
    "\n",
    "## O que é **Aprendizado Não Supervisionado**?\n",
    "Diferente do aprendizado supervisionado (que usa rótulos), aqui **não temos respostas prontas**. O objetivo é descobrir padrões ou grupos ocultos nos dados.\n",
    "\n",
    "## Exemplo com o Dataset Iris\n",
    "Usaremos o mesmo dataset Iris, mas **ignorando os rótulos das flores**. O algoritmo K-Means tentará agrupar as flores com base nas características das pétalas e sépalas.\n",
    "\n",
    "### Passos do Código:\n",
    "1. Carregar os dados (sem usar os rótulos).\n",
    "2. Aplicar o K-Means para agrupar os dados em 3 clusters (já que sabemos que há 3 espécies).\n",
    "3. Visualizar os grupos encontrados.\n",
    "4. Comparar com os rótulos originais (apenas para validação).\n"
   ]
  },
  {
   "cell_type": "code",
   "execution_count": null,
   "metadata": {},
   "outputs": [],
   "source": [
    "# Importar bibliotecas\n",
    "import numpy as np\n",
    "from sklearn.datasets import load_iris\n",
    "from sklearn.cluster import KMeans\n",
    "import matplotlib.pyplot as plt\n",
    "\n",
    "# Carregar os dados (sem os rótulos)\n",
    "data = load_iris()\n",
    "X = data.data  # Apenas as características\n",
    "\n",
    "# Criar e treinar o modelo K-Means\n",
    "kmeans = KMeans(n_clusters=3, random_state=42)\n",
    "kmeans.fit(X)\n",
    "\n",
    "# Visualizar os clusters (usando as duas primeiras características)\n",
    "plt.scatter(X[:, 0], X[:, 1], c=kmeans.labels_, cmap='viridis')\n",
    "plt.xlabel('Comprimento da Sépala')\n",
    "plt.ylabel('Largura da Sépala')\n",
    "plt.title('Agrupamento com K-Means')\n",
    "plt.show()\n",
    "\n",
    "# Opcional: Comparar com os rótulos reais\n",
    "print(\"Rótulos originais vs. Clusters:\")\n",
    "print(np.column_stack((data.target, kmeans.labels_))[:10])  # Primeiras 10 amostras\n"
   ]
  }
 ],
 "metadata": {}
}